{
  "cells": [
    {
      "cell_type": "code",
      "execution_count": 1,
      "metadata": {},
      "outputs": [],
      "source": [
        "import matplotlib.pyplot as plt\n",
        "from pathlib import Path\n",
        "import pyarrow as pa\n",
        "import sys\n",
        "\n",
        "sys.path.append(\"../ebus\")\n",
        "\n",
        "from transit.transitdb import *"
      ]
    },
    {
      "cell_type": "code",
      "execution_count": null,
      "metadata": {},
      "outputs": [],
      "source": [
        "fig = plt.figure(figsize=(9, 6), dpi=300)\n",
        "ax = fig.subplots()\n",
        "ax.grid(True)\n",
        "ax.set_axisbelow(True)\n",
        "\n",
        "city = \"phil\"\n",
        "\n",
        "with TransitDb(Path(f\"../data/cities/{city}.db\")) as db:\n",
        "  name = db.get_metadata().name\n",
        "  samples = db.script(\"analysis/sample-walking-distances\").arrow()\n",
        "\n",
        "  ax.scatter(\n",
        "    samples.field(\"distance\"),\n",
        "    samples.field(f\"euclidean_error\"),\n",
        "    label=f\"Euclidean distance\",\n",
        "    marker=\"o\",\n",
        "    s=4,\n",
        "  )\n",
        "\n",
        "  ax.scatter(\n",
        "    samples.field(\"distance\"),\n",
        "    samples.field(f\"manhattan_error\"),\n",
        "    label=f\"Manhattan distance\",\n",
        "    marker=\"D\",\n",
        "    s=4,\n",
        "  )\n",
        "\n",
        "ax.set_xlabel(\"Distance calculated using map-based routing [m]\")\n",
        "ax.set_ylabel(\"Relative error [%]\")\n",
        "ax.legend()"
      ]
    }
  ],
  "metadata": {
    "kernelspec": {
      "display_name": ".venv",
      "language": "python",
      "name": "python3"
    },
    "language_info": {
      "codemirror_mode": {
        "name": "ipython",
        "version": 3
      },
      "file_extension": ".py",
      "mimetype": "text/x-python",
      "name": "python",
      "nbconvert_exporter": "python",
      "pygments_lexer": "ipython3",
      "version": "3.11.11"
    }
  },
  "nbformat": 4,
  "nbformat_minor": 2
}
